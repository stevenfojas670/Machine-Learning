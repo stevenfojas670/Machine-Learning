{
 "cells": [
  {
   "cell_type": "code",
   "execution_count": 1,
   "id": "6a03f70b-c3d5-471c-8b4e-59d9e9c0deba",
   "metadata": {},
   "outputs": [],
   "source": [
    "import pandas as pd\n",
    "import numpy as np\n",
    "import matplotlib as plt"
   ]
  },
  {
   "cell_type": "code",
   "execution_count": 9,
   "id": "ebc42f10-251f-4faf-ab8b-0eff1e253774",
   "metadata": {},
   "outputs": [],
   "source": [
    "train_data = pd.read_csv('MNIST_training.csv', header=None)\n",
    "test_data = pd.read_csv('MNIST_test.csv', header=None)"
   ]
  },
  {
   "cell_type": "code",
   "execution_count": 10,
   "id": "716ebff6-814e-40c5-ada4-f0dddb52662e",
   "metadata": {},
   "outputs": [
    {
     "name": "stdout",
     "output_type": "stream",
     "text": [
      "       0       1       2       3       4       5       6       7       8    \\\n",
      "0    label  pixel0  pixel1  pixel2  pixel3  pixel4  pixel5  pixel6  pixel7   \n",
      "1        0       0       0       0       0       0       0       0       0   \n",
      "2        0       0       0       0       0       0       0       0       0   \n",
      "3        0       0       0       0       0       0       0       0       0   \n",
      "4        0       0       0       0       0       0       0       0       0   \n",
      "..     ...     ...     ...     ...     ...     ...     ...     ...     ...   \n",
      "945      9       0       0       0       0       0       0       0       0   \n",
      "946      9       0       0       0       0       0       0       0       0   \n",
      "947      9       0       0       0       0       0       0       0       0   \n",
      "948      9       0       0       0       0       0       0       0       0   \n",
      "949      9       0       0       0       0       0       0       0       0   \n",
      "\n",
      "        9    ...       775       776       777       778       779       780  \\\n",
      "0    pixel8  ...  pixel774  pixel775  pixel776  pixel777  pixel778  pixel779   \n",
      "1         0  ...         0         0         0         0         0         0   \n",
      "2         0  ...         0         0         0         0         0         0   \n",
      "3         0  ...         0         0         0         0         0         0   \n",
      "4         0  ...         0         0         0         0         0         0   \n",
      "..      ...  ...       ...       ...       ...       ...       ...       ...   \n",
      "945       0  ...         0         0         0         0         0         0   \n",
      "946       0  ...         0         0         0         0         0         0   \n",
      "947       0  ...         0         0         0         0         0         0   \n",
      "948       0  ...         0         0         0         0         0         0   \n",
      "949       0  ...         0         0         0         0         0         0   \n",
      "\n",
      "          781       782       783       784  \n",
      "0    pixel780  pixel781  pixel782  pixel783  \n",
      "1           0         0         0         0  \n",
      "2           0         0         0         0  \n",
      "3           0         0         0         0  \n",
      "4           0         0         0         0  \n",
      "..        ...       ...       ...       ...  \n",
      "945         0         0         0         0  \n",
      "946         0         0         0         0  \n",
      "947         0         0         0         0  \n",
      "948         0         0         0         0  \n",
      "949         0         0         0         0  \n",
      "\n",
      "[950 rows x 785 columns]\n"
     ]
    }
   ],
   "source": [
    "'''\n",
    "Part One: Compute Euclidean Distance with training data+\n",
    "'''\n"
   ]
  },
  {
   "cell_type": "code",
   "execution_count": null,
   "id": "e45248a5-a052-4647-8203-31388a354de9",
   "metadata": {},
   "outputs": [],
   "source": []
  }
 ],
 "metadata": {
  "kernelspec": {
   "display_name": "Python 3 (ipykernel)",
   "language": "python",
   "name": "python3"
  },
  "language_info": {
   "codemirror_mode": {
    "name": "ipython",
    "version": 3
   },
   "file_extension": ".py",
   "mimetype": "text/x-python",
   "name": "python",
   "nbconvert_exporter": "python",
   "pygments_lexer": "ipython3",
   "version": "3.12.1"
  }
 },
 "nbformat": 4,
 "nbformat_minor": 5
}
