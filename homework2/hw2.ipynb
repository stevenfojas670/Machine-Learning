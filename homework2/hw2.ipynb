{
 "cells": [
  {
   "cell_type": "code",
   "execution_count": 19,
   "id": "6a03f70b-c3d5-471c-8b4e-59d9e9c0deba",
   "metadata": {},
   "outputs": [],
   "source": [
    "import pandas as pd\n",
    "import numpy as np\n",
    "import matplotlib as plt"
   ]
  },
  {
   "cell_type": "code",
   "execution_count": 24,
   "id": "ebc42f10-251f-4faf-ab8b-0eff1e253774",
   "metadata": {},
   "outputs": [],
   "source": [
    "# 10 classes, each 95 samples\n",
    "train_data = pd.read_csv('MNIST_training.csv', header=None)\n",
    "# 10 classes, each 5 samples\n",
    "test_data = pd.read_csv('MNIST_test.csv', header=None)"
   ]
  }
 ],
 "metadata": {
  "kernelspec": {
   "display_name": "Python 3 (ipykernel)",
   "language": "python",
   "name": "python3"
  },
  "language_info": {
   "codemirror_mode": {
    "name": "ipython",
    "version": 3
   },
   "file_extension": ".py",
   "mimetype": "text/x-python",
   "name": "python",
   "nbconvert_exporter": "python",
   "pygments_lexer": "ipython3",
   "version": "3.12.1"
  }
 },
 "nbformat": 4,
 "nbformat_minor": 5
}
